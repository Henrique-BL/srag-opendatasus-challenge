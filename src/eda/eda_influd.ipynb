{
 "cells": [
  {
   "cell_type": "markdown",
   "id": "ed35d17d",
   "metadata": {},
   "source": [
    "### Imports"
   ]
  },
  {
   "cell_type": "code",
   "execution_count": 2,
   "id": "3dd4d007",
   "metadata": {},
   "outputs": [
    {
     "data": {
      "text/html": [
       "\n",
       "            <div>\n",
       "                <ins><a href=\"https://ydata.ai/register\">Upgrade to ydata-sdk</a></ins>\n",
       "                <p>\n",
       "                    Improve your data and profiling with ydata-sdk, featuring data quality scoring, redundancy detection, outlier identification, text validation, and synthetic data generation.\n",
       "                </p>\n",
       "            </div>\n",
       "            "
      ],
      "text/plain": [
       "<IPython.core.display.HTML object>"
      ]
     },
     "metadata": {},
     "output_type": "display_data"
    }
   ],
   "source": [
    "import pandas\n",
    "from ydata_profiling import ProfileReport"
   ]
  },
  {
   "cell_type": "code",
   "execution_count": null,
   "id": "6a51a253",
   "metadata": {},
   "outputs": [],
   "source": [
    "# Keep rows where ALL non-null dates are within range\n",
    "def is_valid_year_range(row, date_cols, max_year=2025):\n",
    "    for col in date_cols:\n",
    "        if pandas.notna(row[col]):  # If date exists\n",
    "            year = row[col].year\n",
    "            if  year > max_year:\n",
    "                return False\n",
    "    return True\n"
   ]
  },
  {
   "cell_type": "markdown",
   "id": "c892c9b5",
   "metadata": {},
   "source": [
    "### Files Processing\n",
    "In this step we're selecting the features, renaming and adding some modifications to treat nan values and datetime formatting. Raw results are stored at ../data/bronze/ and more appropriate data is stored at ./data/silver/."
   ]
  },
  {
   "cell_type": "code",
   "execution_count": null,
   "id": "7c7e2a40",
   "metadata": {},
   "outputs": [],
   "source": [
    "# Use proper path resolution from notebook location with error handling\n",
    "try:\n",
    "    # Try with robust parsing options for potentially malformed CSV\n",
    "    files= [\"INFLUD21\", \"INFLUD22\", \"INFLUD23\", \"INFLUD24\", \"INFLUD25\"]\n",
    "    columns_mapping = {\"NU_NOTIFIC\": \"origin_id\",\n",
    "                \"DT_NOTIFIC\": \"data_preenchimento\",\n",
    "                \"VACINA_COV\": \"vacina_covid\",\n",
    "                \"VACINA\": \"vacina_gripe\",\n",
    "                \"HOSPITAL\": \"internado_hospital\",\n",
    "                \"DT_INTERNA\": \"data_internacao_hospital\",\n",
    "                \"UTI\": \"internado_uti\",\n",
    "                \"DT_ENTUTI\": \"data_entrada_uti\",\n",
    "                \"DT_SAIDUTI\": \"data_saida_uti\",\n",
    "                \"CLASSI_FIN\": \"diagnostico_final\",\n",
    "                \"EVOLUCAO\": \"evolucao\",\n",
    "                \"DT_EVOLUCA\": \"data_evolucao\",\n",
    "                \"DT_SIN_PRI\":\"data_primeiro_sintoma\"\n",
    "                }\n",
    "    time_columns = [\"DT_NOTIFIC\", \"DT_INTERNA\", \"DT_ENTUTI\", \"DT_SAIDUTI\", \"DT_EVOLUCA\", \"DT_SIN_PRI\"]\n",
    "    integer_columns = [\"VACINA_COV\", \"VACINA\", \"HOSPITAL\", \"UTI\", \"CLASSI_FIN\", \"EVOLUCAO\"]\n",
    "    features = [key for key in columns_mapping.keys()]\n",
    "    unified_df = pandas.DataFrame()\n",
    "    for file in files:\n",
    "        df = pandas.read_csv(f\"../data/bronze/{file}.csv\", \n",
    "                             low_memory=False,\n",
    "                            on_bad_lines='warn',  # Skip bad lines\n",
    "                            encoding='latin1',    # Common encoding \n",
    "                            sep=';')  \n",
    "        df = df[features]  \n",
    "        df[time_columns] = df[time_columns].apply(pandas.to_datetime, errors='coerce')\n",
    "                \n",
    "        # Apply the filter\n",
    "        df = df[df.apply(lambda row: is_valid_year_range(row, time_columns), axis=1)]\n",
    "        for col in time_columns:\n",
    "            df[col] = df[col].dt.strftime('%Y-%m-%d')\n",
    "        for col in integer_columns:\n",
    "            df[col] = df[col].astype(\"Int64\")\n",
    "        df = df.rename(columns=columns_mapping)\n",
    "        df.to_csv(f\"../data/silver/{file}.csv\", index=False, sep=';',na_rep=\"\")\n",
    "        unified_df = pandas.concat([unified_df, df])\n",
    "    unified_df.to_csv(\"../data/silver/INFLUD21-25.csv\", index=False, sep=';')\n",
    "except Exception as e:\n",
    "    print(f\"ERROR with features selection: {e}\")\n",
    "\n",
    "\n"
   ]
  },
  {
   "cell_type": "markdown",
   "id": "64318ef7",
   "metadata": {},
   "source": [
    "### Profile Generation\n",
    "Here we're using ydata-profile capabilities to create profiles and store them at ../data/profiles/ for further analisys."
   ]
  },
  {
   "cell_type": "code",
   "execution_count": null,
   "id": "25a7349e",
   "metadata": {},
   "outputs": [
    {
     "name": "stdout",
     "output_type": "stream",
     "text": [
      "DATA LOADED SUCCESSFULLY FOR FILE: INFLUD21\n"
     ]
    },
    {
     "data": {
      "application/vnd.jupyter.widget-view+json": {
       "model_id": "422c4e15791b4f8bab9a7e7c0b906cf2",
       "version_major": 2,
       "version_minor": 0
      },
      "text/plain": [
       "Summarize dataset:   0%|          | 0/5 [00:00<?, ?it/s]"
      ]
     },
     "metadata": {},
     "output_type": "display_data"
    },
    {
     "name": "stderr",
     "output_type": "stream",
     "text": [
      "100%|██████████| 13/13 [00:19<00:00,  1.52s/it]\n"
     ]
    },
    {
     "data": {
      "application/vnd.jupyter.widget-view+json": {
       "model_id": "0614033600c8490994ed7be25fb27c14",
       "version_major": 2,
       "version_minor": 0
      },
      "text/plain": [
       "Generate report structure:   0%|          | 0/1 [00:00<?, ?it/s]"
      ]
     },
     "metadata": {},
     "output_type": "display_data"
    },
    {
     "data": {
      "application/vnd.jupyter.widget-view+json": {
       "model_id": "9e25963d86a94f93a979241d1f9711a9",
       "version_major": 2,
       "version_minor": 0
      },
      "text/plain": [
       "Render HTML:   0%|          | 0/1 [00:00<?, ?it/s]"
      ]
     },
     "metadata": {},
     "output_type": "display_data"
    },
    {
     "data": {
      "application/vnd.jupyter.widget-view+json": {
       "model_id": "841a7af2d92a474b8ca29043a9f5659c",
       "version_major": 2,
       "version_minor": 0
      },
      "text/plain": [
       "Export report to file:   0%|          | 0/1 [00:00<?, ?it/s]"
      ]
     },
     "metadata": {},
     "output_type": "display_data"
    },
    {
     "name": "stdout",
     "output_type": "stream",
     "text": [
      "DATA LOADED SUCCESSFULLY FOR FILE: INFLUD22\n"
     ]
    },
    {
     "data": {
      "application/vnd.jupyter.widget-view+json": {
       "model_id": "e6e9cee54dbe443f82850a3f79d7dac6",
       "version_major": 2,
       "version_minor": 0
      },
      "text/plain": [
       "Summarize dataset:   0%|          | 0/5 [00:00<?, ?it/s]"
      ]
     },
     "metadata": {},
     "output_type": "display_data"
    },
    {
     "name": "stderr",
     "output_type": "stream",
     "text": [
      "100%|██████████| 13/13 [00:05<00:00,  2.17it/s]\n"
     ]
    },
    {
     "data": {
      "application/vnd.jupyter.widget-view+json": {
       "model_id": "f4bfde982adb4ee398f8670217c04a4d",
       "version_major": 2,
       "version_minor": 0
      },
      "text/plain": [
       "Generate report structure:   0%|          | 0/1 [00:00<?, ?it/s]"
      ]
     },
     "metadata": {},
     "output_type": "display_data"
    },
    {
     "data": {
      "application/vnd.jupyter.widget-view+json": {
       "model_id": "5ad0d8825b3b454a808fd6302e88816a",
       "version_major": 2,
       "version_minor": 0
      },
      "text/plain": [
       "Render HTML:   0%|          | 0/1 [00:00<?, ?it/s]"
      ]
     },
     "metadata": {},
     "output_type": "display_data"
    },
    {
     "data": {
      "application/vnd.jupyter.widget-view+json": {
       "model_id": "87fd899d73a84a97854e19decb7422eb",
       "version_major": 2,
       "version_minor": 0
      },
      "text/plain": [
       "Export report to file:   0%|          | 0/1 [00:00<?, ?it/s]"
      ]
     },
     "metadata": {},
     "output_type": "display_data"
    },
    {
     "name": "stdout",
     "output_type": "stream",
     "text": [
      "DATA LOADED SUCCESSFULLY FOR FILE: INFLUD23\n"
     ]
    },
    {
     "data": {
      "application/vnd.jupyter.widget-view+json": {
       "model_id": "c37d080dd7d44a1ba4dfa16a49c85c47",
       "version_major": 2,
       "version_minor": 0
      },
      "text/plain": [
       "Summarize dataset:   0%|          | 0/5 [00:00<?, ?it/s]"
      ]
     },
     "metadata": {},
     "output_type": "display_data"
    },
    {
     "name": "stderr",
     "output_type": "stream",
     "text": [
      "100%|██████████| 13/13 [00:03<00:00,  3.52it/s]\n"
     ]
    },
    {
     "data": {
      "application/vnd.jupyter.widget-view+json": {
       "model_id": "da8435ef17a24f5dabd3dcf182173581",
       "version_major": 2,
       "version_minor": 0
      },
      "text/plain": [
       "Generate report structure:   0%|          | 0/1 [00:00<?, ?it/s]"
      ]
     },
     "metadata": {},
     "output_type": "display_data"
    },
    {
     "data": {
      "application/vnd.jupyter.widget-view+json": {
       "model_id": "265f341d9a7d48b38b5216545b210491",
       "version_major": 2,
       "version_minor": 0
      },
      "text/plain": [
       "Render HTML:   0%|          | 0/1 [00:00<?, ?it/s]"
      ]
     },
     "metadata": {},
     "output_type": "display_data"
    },
    {
     "data": {
      "application/vnd.jupyter.widget-view+json": {
       "model_id": "5541eda4821a44c6a2f1d2e67b3741e9",
       "version_major": 2,
       "version_minor": 0
      },
      "text/plain": [
       "Export report to file:   0%|          | 0/1 [00:00<?, ?it/s]"
      ]
     },
     "metadata": {},
     "output_type": "display_data"
    },
    {
     "name": "stdout",
     "output_type": "stream",
     "text": [
      "DATA LOADED SUCCESSFULLY FOR FILE: INFLUD24\n"
     ]
    },
    {
     "data": {
      "application/vnd.jupyter.widget-view+json": {
       "model_id": "2b0ac1f277f84ce3b01be6c4beee4915",
       "version_major": 2,
       "version_minor": 0
      },
      "text/plain": [
       "Summarize dataset:   0%|          | 0/5 [00:00<?, ?it/s]"
      ]
     },
     "metadata": {},
     "output_type": "display_data"
    },
    {
     "name": "stderr",
     "output_type": "stream",
     "text": [
      "100%|██████████| 13/13 [00:04<00:00,  2.73it/s]\n"
     ]
    },
    {
     "data": {
      "application/vnd.jupyter.widget-view+json": {
       "model_id": "890526e9f40f46038025914c703eceea",
       "version_major": 2,
       "version_minor": 0
      },
      "text/plain": [
       "Generate report structure:   0%|          | 0/1 [00:00<?, ?it/s]"
      ]
     },
     "metadata": {},
     "output_type": "display_data"
    },
    {
     "data": {
      "application/vnd.jupyter.widget-view+json": {
       "model_id": "5494f447f6104be4b42893600d65fb5b",
       "version_major": 2,
       "version_minor": 0
      },
      "text/plain": [
       "Render HTML:   0%|          | 0/1 [00:00<?, ?it/s]"
      ]
     },
     "metadata": {},
     "output_type": "display_data"
    },
    {
     "data": {
      "application/vnd.jupyter.widget-view+json": {
       "model_id": "6bffa733ecc746fcae381324a432085f",
       "version_major": 2,
       "version_minor": 0
      },
      "text/plain": [
       "Export report to file:   0%|          | 0/1 [00:00<?, ?it/s]"
      ]
     },
     "metadata": {},
     "output_type": "display_data"
    },
    {
     "name": "stdout",
     "output_type": "stream",
     "text": [
      "DATA LOADED SUCCESSFULLY FOR FILE: INFLUD25\n"
     ]
    },
    {
     "data": {
      "application/vnd.jupyter.widget-view+json": {
       "model_id": "019f6103747e44589bcfc55666a42295",
       "version_major": 2,
       "version_minor": 0
      },
      "text/plain": [
       "Summarize dataset:   0%|          | 0/5 [00:00<?, ?it/s]"
      ]
     },
     "metadata": {},
     "output_type": "display_data"
    },
    {
     "name": "stderr",
     "output_type": "stream",
     "text": [
      "100%|██████████| 13/13 [00:02<00:00,  4.37it/s]\n"
     ]
    },
    {
     "data": {
      "application/vnd.jupyter.widget-view+json": {
       "model_id": "3e23e5a7b3d34307baf0b64af1780c21",
       "version_major": 2,
       "version_minor": 0
      },
      "text/plain": [
       "Generate report structure:   0%|          | 0/1 [00:00<?, ?it/s]"
      ]
     },
     "metadata": {},
     "output_type": "display_data"
    },
    {
     "data": {
      "application/vnd.jupyter.widget-view+json": {
       "model_id": "f79f8e23820d4e0bb02d111a1df89b3c",
       "version_major": 2,
       "version_minor": 0
      },
      "text/plain": [
       "Render HTML:   0%|          | 0/1 [00:00<?, ?it/s]"
      ]
     },
     "metadata": {},
     "output_type": "display_data"
    },
    {
     "data": {
      "application/vnd.jupyter.widget-view+json": {
       "model_id": "e4a0f1e20cc34869a4a930a20e91cb10",
       "version_major": 2,
       "version_minor": 0
      },
      "text/plain": [
       "Export report to file:   0%|          | 0/1 [00:00<?, ?it/s]"
      ]
     },
     "metadata": {},
     "output_type": "display_data"
    }
   ],
   "source": [
    "\n",
    "try:\n",
    "    # Try with robust parsing options for potentially malformed CSV\n",
    "    files= [\"INFLUD21\",\"INFLUD22\",\"INFLUD23\",\"INFLUD24\",\"INFLUD25\"]\n",
    "    for file in files:\n",
    "        df = pandas.read_csv(f\"../data/silver/{file}.csv\", \n",
    "                             low_memory=False,\n",
    "                            on_bad_lines='warn',  \n",
    "                            encoding='latin1',    # Common encoding \n",
    "                            sep=';')    \n",
    "        print(f\"DATA LOADED SUCCESSFULLY FOR FILE: {file}\")\n",
    "        profile = ProfileReport(df=df)\n",
    "        profile.to_file(output_file=f\"../data/profiles/{file}.html\")\n",
    "except Exception as e:\n",
    "    print(f\"ERROR with PROFILE GENERATION: {e}\")\n",
    "\n",
    "\n"
   ]
  },
  {
   "cell_type": "markdown",
   "id": "50f62946",
   "metadata": {},
   "source": [
    "### Final Profile Generation\n",
    "Here we're using ydata-profile capabilities to create a specific profile related to the concatenation of all data. The result is stored at ../data/profiles/ for further analisys."
   ]
  },
  {
   "cell_type": "code",
   "execution_count": null,
   "id": "49dbb2dc",
   "metadata": {},
   "outputs": [
    {
     "name": "stdout",
     "output_type": "stream",
     "text": [
      "DATA LOADED SUCCESSFULLY\n"
     ]
    },
    {
     "data": {
      "application/vnd.jupyter.widget-view+json": {
       "model_id": "dd84530f2d6c4e1fa4352ed3b2ea63b0",
       "version_major": 2,
       "version_minor": 0
      },
      "text/plain": [
       "Summarize dataset:   0%|          | 0/5 [00:00<?, ?it/s]"
      ]
     },
     "metadata": {},
     "output_type": "display_data"
    },
    {
     "name": "stderr",
     "output_type": "stream",
     "text": [
      "100%|██████████| 13/13 [00:46<00:00,  3.57s/it]\n"
     ]
    },
    {
     "data": {
      "application/vnd.jupyter.widget-view+json": {
       "model_id": "2967d4db5da24e668046310d6c2b2643",
       "version_major": 2,
       "version_minor": 0
      },
      "text/plain": [
       "Generate report structure:   0%|          | 0/1 [00:00<?, ?it/s]"
      ]
     },
     "metadata": {},
     "output_type": "display_data"
    },
    {
     "data": {
      "application/vnd.jupyter.widget-view+json": {
       "model_id": "16eb8818b3d74ad38faf797d3e1e8fdc",
       "version_major": 2,
       "version_minor": 0
      },
      "text/plain": [
       "Render HTML:   0%|          | 0/1 [00:00<?, ?it/s]"
      ]
     },
     "metadata": {},
     "output_type": "display_data"
    },
    {
     "data": {
      "application/vnd.jupyter.widget-view+json": {
       "model_id": "40c772c16fc746768808e1a9202a7331",
       "version_major": 2,
       "version_minor": 0
      },
      "text/plain": [
       "Export report to file:   0%|          | 0/1 [00:00<?, ?it/s]"
      ]
     },
     "metadata": {},
     "output_type": "display_data"
    }
   ],
   "source": [
    "\n",
    "try:\n",
    "    # Try with robust parsing options for potentially malformed CSV\n",
    "    file = \"INFLUD21-25.csv\"\n",
    "    df = pandas.read_csv(f\"../data/silver/{file}\", \n",
    "                             low_memory=False,\n",
    "                            on_bad_lines='warn',  \n",
    "                            encoding='latin1',    # Common encoding \n",
    "                            sep=';')    \n",
    "    print(\"DATA LOADED SUCCESSFULLY\")\n",
    "    profile = ProfileReport(df=df)\n",
    "    profile.to_file(output_file=f\"../data/profiles/{file}.html\")\n",
    "except Exception as e:\n",
    "    print(f\"ERROR with PROFILE GENERATION: {e}\")\n",
    "\n",
    "\n"
   ]
  }
 ],
 "metadata": {
  "kernelspec": {
   "display_name": ".venv",
   "language": "python",
   "name": "python3"
  },
  "language_info": {
   "codemirror_mode": {
    "name": "ipython",
    "version": 3
   },
   "file_extension": ".py",
   "mimetype": "text/x-python",
   "name": "python",
   "nbconvert_exporter": "python",
   "pygments_lexer": "ipython3",
   "version": "3.11.9"
  }
 },
 "nbformat": 4,
 "nbformat_minor": 5
}
