{
 "cells": [
  {
   "cell_type": "markdown",
   "id": "ed35d17d",
   "metadata": {},
   "source": [
    "### Imports"
   ]
  },
  {
   "cell_type": "code",
   "execution_count": 1,
   "id": "3dd4d007",
   "metadata": {},
   "outputs": [
    {
     "data": {
      "text/html": [
       "\n",
       "            <div>\n",
       "                <ins><a href=\"https://ydata.ai/register\">Upgrade to ydata-sdk</a></ins>\n",
       "                <p>\n",
       "                    Improve your data and profiling with ydata-sdk, featuring data quality scoring, redundancy detection, outlier identification, text validation, and synthetic data generation.\n",
       "                </p>\n",
       "            </div>\n",
       "            "
      ],
      "text/plain": [
       "<IPython.core.display.HTML object>"
      ]
     },
     "metadata": {},
     "output_type": "display_data"
    }
   ],
   "source": [
    "import pandas\n",
    "from ydata_profiling import ProfileReport"
   ]
  },
  {
   "cell_type": "code",
   "execution_count": 2,
   "id": "6a51a253",
   "metadata": {},
   "outputs": [],
   "source": [
    "# Keep rows where ALL non-null dates are within range\n",
    "def is_valid_year_range(row, date_cols, max_year=2025):\n",
    "    for col in date_cols:\n",
    "        if pandas.notna(row[col]):  # If date exists\n",
    "            year = row[col].year\n",
    "            if  year > max_year:\n",
    "                return False\n",
    "    return True\n"
   ]
  },
  {
   "cell_type": "markdown",
   "id": "c892c9b5",
   "metadata": {},
   "source": [
    "### Files Processing\n",
    "In this step we're selecting the features, renaming and adding some modifications to treat nan values and datetime formatting. Raw results are stored at ../data/bronze/ and more appropriate data is stored at ./data/silver/."
   ]
  },
  {
   "cell_type": "code",
   "execution_count": 3,
   "id": "7c7e2a40",
   "metadata": {},
   "outputs": [],
   "source": [
    "# Use proper path resolution from notebook location with error handling\n",
    "try:\n",
    "    # Try with robust parsing options for potentially malformed CSV\n",
    "    files= [\"INFLUD21\", \"INFLUD22\", \"INFLUD23\", \"INFLUD24\", \"INFLUD25\"]\n",
    "    columns_mapping = {\"NU_NOTIFIC\": \"origin_id\",\n",
    "                \"DT_NOTIFIC\": \"data_preenchimento\",\n",
    "                \"VACINA_COV\": \"vacina_covid\",\n",
    "                \"VACINA\": \"vacina_gripe\",\n",
    "                \"HOSPITAL\": \"internado_hospital\",\n",
    "                \"DT_INTERNA\": \"data_internacao_hospital\",\n",
    "                \"UTI\": \"internado_uti\",\n",
    "                \"DT_ENTUTI\": \"data_entrada_uti\",\n",
    "                \"DT_SAIDUTI\": \"data_saida_uti\",\n",
    "                \"CLASSI_FIN\": \"diagnostico_final\",\n",
    "                \"EVOLUCAO\": \"evolucao\",\n",
    "                \"DT_EVOLUCA\": \"data_evolucao\",\n",
    "                \"DT_SIN_PRI\":\"data_primeiro_sintoma\"\n",
    "                }\n",
    "    time_columns = [\"DT_NOTIFIC\", \"DT_INTERNA\", \"DT_ENTUTI\", \"DT_SAIDUTI\", \"DT_EVOLUCA\", \"DT_SIN_PRI\"]\n",
    "    integer_columns = [\"VACINA_COV\", \"VACINA\", \"HOSPITAL\", \"UTI\", \"CLASSI_FIN\", \"EVOLUCAO\"]\n",
    "    features = [key for key in columns_mapping.keys()]\n",
    "    unified_df = pandas.DataFrame()\n",
    "    for file in files:\n",
    "        df = pandas.read_csv(f\"../data/bronze/{file}.csv\", \n",
    "                             low_memory=False,\n",
    "                            on_bad_lines='warn',  # Skip bad lines\n",
    "                            encoding='latin1',    # Common encoding \n",
    "                            sep=';')  \n",
    "        df = df[features]  \n",
    "        df[time_columns] = df[time_columns].apply(pandas.to_datetime, errors='coerce')\n",
    "                \n",
    "        # Apply the filter\n",
    "        df = df[df.apply(lambda row: is_valid_year_range(row, time_columns), axis=1)]\n",
    "        for col in time_columns:\n",
    "            df[col] = df[col].dt.strftime('%Y-%m-%d')\n",
    "        for col in integer_columns:\n",
    "            df[col] = df[col].astype(\"Int64\")\n",
    "        df = df.rename(columns=columns_mapping)\n",
    "        df.to_csv(f\"../data/silver/{file}.csv\", index=False, sep=';',na_rep=\"\")\n",
    "        unified_df = pandas.concat([unified_df, df])\n",
    "    unified_df.to_csv(\"../data/silver/INFLUD21-25.csv\", index=False, sep=';')\n",
    "except Exception as e:\n",
    "    print(f\"ERROR with features selection: {e}\")\n",
    "\n",
    "\n"
   ]
  },
  {
   "cell_type": "markdown",
   "id": "64318ef7",
   "metadata": {},
   "source": [
    "### Profile Generation\n",
    "Here we're using ydata-profile capabilities to create profiles and store them at ../data/profiles/ for further analisys."
   ]
  },
  {
   "cell_type": "code",
   "execution_count": null,
   "id": "25a7349e",
   "metadata": {},
   "outputs": [
    {
     "name": "stdout",
     "output_type": "stream",
     "text": [
      "DATA LOADED SUCCESSFULLY FOR FILE: INFLUD21\n"
     ]
    },
    {
     "data": {
      "application/vnd.jupyter.widget-view+json": {
       "model_id": "c0cce94d70a1419f980632f6ae500f24",
       "version_major": 2,
       "version_minor": 0
      },
      "text/plain": [
       "Summarize dataset:   0%|          | 0/5 [00:00<?, ?it/s]"
      ]
     },
     "metadata": {},
     "output_type": "display_data"
    },
    {
     "name": "stderr",
     "output_type": "stream",
     "text": [
      "100%|██████████| 13/13 [00:18<00:00,  1.45s/it]\n"
     ]
    },
    {
     "data": {
      "application/vnd.jupyter.widget-view+json": {
       "model_id": "4877b8f5ce9547848662bfb30f7898aa",
       "version_major": 2,
       "version_minor": 0
      },
      "text/plain": [
       "Generate report structure:   0%|          | 0/1 [00:00<?, ?it/s]"
      ]
     },
     "metadata": {},
     "output_type": "display_data"
    },
    {
     "data": {
      "application/vnd.jupyter.widget-view+json": {
       "model_id": "a2c58d2129334013a3b1158391288d22",
       "version_major": 2,
       "version_minor": 0
      },
      "text/plain": [
       "Render HTML:   0%|          | 0/1 [00:00<?, ?it/s]"
      ]
     },
     "metadata": {},
     "output_type": "display_data"
    },
    {
     "data": {
      "application/vnd.jupyter.widget-view+json": {
       "model_id": "3041b89e86e9458f90a441916dc4a143",
       "version_major": 2,
       "version_minor": 0
      },
      "text/plain": [
       "Export report to file:   0%|          | 0/1 [00:00<?, ?it/s]"
      ]
     },
     "metadata": {},
     "output_type": "display_data"
    },
    {
     "name": "stdout",
     "output_type": "stream",
     "text": [
      "DATA LOADED SUCCESSFULLY FOR FILE: INFLUD22\n"
     ]
    },
    {
     "data": {
      "application/vnd.jupyter.widget-view+json": {
       "model_id": "d693aeb45b674fc9a9decfc46b3c3679",
       "version_major": 2,
       "version_minor": 0
      },
      "text/plain": [
       "Summarize dataset:   0%|          | 0/5 [00:00<?, ?it/s]"
      ]
     },
     "metadata": {},
     "output_type": "display_data"
    },
    {
     "name": "stderr",
     "output_type": "stream",
     "text": [
      "100%|██████████| 13/13 [00:02<00:00,  5.24it/s]\n"
     ]
    },
    {
     "data": {
      "application/vnd.jupyter.widget-view+json": {
       "model_id": "c993c66e69b3411db9a8c1c719bc04e4",
       "version_major": 2,
       "version_minor": 0
      },
      "text/plain": [
       "Generate report structure:   0%|          | 0/1 [00:00<?, ?it/s]"
      ]
     },
     "metadata": {},
     "output_type": "display_data"
    },
    {
     "data": {
      "application/vnd.jupyter.widget-view+json": {
       "model_id": "03a12a97d9fa47f59bff6632ef1ee3c8",
       "version_major": 2,
       "version_minor": 0
      },
      "text/plain": [
       "Render HTML:   0%|          | 0/1 [00:00<?, ?it/s]"
      ]
     },
     "metadata": {},
     "output_type": "display_data"
    },
    {
     "data": {
      "application/vnd.jupyter.widget-view+json": {
       "model_id": "10a3134c3b35473b9e69144acf19fef1",
       "version_major": 2,
       "version_minor": 0
      },
      "text/plain": [
       "Export report to file:   0%|          | 0/1 [00:00<?, ?it/s]"
      ]
     },
     "metadata": {},
     "output_type": "display_data"
    },
    {
     "name": "stdout",
     "output_type": "stream",
     "text": [
      "DATA LOADED SUCCESSFULLY FOR FILE: INFLUD23\n"
     ]
    },
    {
     "data": {
      "application/vnd.jupyter.widget-view+json": {
       "model_id": "68044205d0e7408e878afba1b2fc072c",
       "version_major": 2,
       "version_minor": 0
      },
      "text/plain": [
       "Summarize dataset:   0%|          | 0/5 [00:00<?, ?it/s]"
      ]
     },
     "metadata": {},
     "output_type": "display_data"
    },
    {
     "name": "stderr",
     "output_type": "stream",
     "text": [
      "100%|██████████| 13/13 [00:02<00:00,  5.26it/s]\n"
     ]
    },
    {
     "data": {
      "application/vnd.jupyter.widget-view+json": {
       "model_id": "ecbd675499f44a9792237ff179dda973",
       "version_major": 2,
       "version_minor": 0
      },
      "text/plain": [
       "Generate report structure:   0%|          | 0/1 [00:00<?, ?it/s]"
      ]
     },
     "metadata": {},
     "output_type": "display_data"
    },
    {
     "data": {
      "application/vnd.jupyter.widget-view+json": {
       "model_id": "1f5e0c7630874f638830842a7581bf88",
       "version_major": 2,
       "version_minor": 0
      },
      "text/plain": [
       "Render HTML:   0%|          | 0/1 [00:00<?, ?it/s]"
      ]
     },
     "metadata": {},
     "output_type": "display_data"
    },
    {
     "data": {
      "application/vnd.jupyter.widget-view+json": {
       "model_id": "0621e1a28ba34460b09e5d6465b4b7e6",
       "version_major": 2,
       "version_minor": 0
      },
      "text/plain": [
       "Export report to file:   0%|          | 0/1 [00:00<?, ?it/s]"
      ]
     },
     "metadata": {},
     "output_type": "display_data"
    },
    {
     "name": "stdout",
     "output_type": "stream",
     "text": [
      "DATA LOADED SUCCESSFULLY FOR FILE: INFLUD24\n"
     ]
    },
    {
     "data": {
      "application/vnd.jupyter.widget-view+json": {
       "model_id": "ea5765931e494880bb7bfd71461f1ba4",
       "version_major": 2,
       "version_minor": 0
      },
      "text/plain": [
       "Summarize dataset:   0%|          | 0/5 [00:00<?, ?it/s]"
      ]
     },
     "metadata": {},
     "output_type": "display_data"
    },
    {
     "name": "stderr",
     "output_type": "stream",
     "text": [
      "100%|██████████| 13/13 [00:02<00:00,  6.15it/s]\n"
     ]
    },
    {
     "data": {
      "application/vnd.jupyter.widget-view+json": {
       "model_id": "b7f83abb2d8a46adae9bd94b84777201",
       "version_major": 2,
       "version_minor": 0
      },
      "text/plain": [
       "Generate report structure:   0%|          | 0/1 [00:00<?, ?it/s]"
      ]
     },
     "metadata": {},
     "output_type": "display_data"
    },
    {
     "data": {
      "application/vnd.jupyter.widget-view+json": {
       "model_id": "b9f36a233d9e411fb188f97ffa0988c0",
       "version_major": 2,
       "version_minor": 0
      },
      "text/plain": [
       "Render HTML:   0%|          | 0/1 [00:00<?, ?it/s]"
      ]
     },
     "metadata": {},
     "output_type": "display_data"
    },
    {
     "data": {
      "application/vnd.jupyter.widget-view+json": {
       "model_id": "eda4d9bbb49546c3a2381dc08e371a97",
       "version_major": 2,
       "version_minor": 0
      },
      "text/plain": [
       "Export report to file:   0%|          | 0/1 [00:00<?, ?it/s]"
      ]
     },
     "metadata": {},
     "output_type": "display_data"
    },
    {
     "name": "stdout",
     "output_type": "stream",
     "text": [
      "DATA LOADED SUCCESSFULLY FOR FILE: INFLUD25\n"
     ]
    },
    {
     "data": {
      "application/vnd.jupyter.widget-view+json": {
       "model_id": "71515d89ccd044cb81d9758a740667ef",
       "version_major": 2,
       "version_minor": 0
      },
      "text/plain": [
       "Summarize dataset:   0%|          | 0/5 [00:00<?, ?it/s]"
      ]
     },
     "metadata": {},
     "output_type": "display_data"
    },
    {
     "name": "stderr",
     "output_type": "stream",
     "text": [
      "100%|██████████| 13/13 [00:01<00:00,  9.35it/s]\n"
     ]
    },
    {
     "data": {
      "application/vnd.jupyter.widget-view+json": {
       "model_id": "505e95aa74594b589b67a6f96f0d6a5e",
       "version_major": 2,
       "version_minor": 0
      },
      "text/plain": [
       "Generate report structure:   0%|          | 0/1 [00:00<?, ?it/s]"
      ]
     },
     "metadata": {},
     "output_type": "display_data"
    },
    {
     "data": {
      "application/vnd.jupyter.widget-view+json": {
       "model_id": "f8005e18ad9d4e6297b6a0aed2e1db48",
       "version_major": 2,
       "version_minor": 0
      },
      "text/plain": [
       "Render HTML:   0%|          | 0/1 [00:00<?, ?it/s]"
      ]
     },
     "metadata": {},
     "output_type": "display_data"
    },
    {
     "data": {
      "application/vnd.jupyter.widget-view+json": {
       "model_id": "0d560d538c6848338405148bacb57925",
       "version_major": 2,
       "version_minor": 0
      },
      "text/plain": [
       "Export report to file:   0%|          | 0/1 [00:00<?, ?it/s]"
      ]
     },
     "metadata": {},
     "output_type": "display_data"
    }
   ],
   "source": [
    "\n",
    "try:\n",
    "    # Try with robust parsing options for potentially malformed CSV\n",
    "    files= [\"INFLUD21\",\"INFLUD22\",\"INFLUD23\",\"INFLUD24\",\"INFLUD25\"]\n",
    "    for file in files:\n",
    "        df = pandas.read_csv(f\"../data/silver/{file}.csv\", \n",
    "                             low_memory=False,\n",
    "                            on_bad_lines='warn',  \n",
    "                            encoding='latin1',    # Common encoding \n",
    "                            sep=';')    \n",
    "        print(f\"DATA LOADED SUCCESSFULLY FOR FILE: {file}\")\n",
    "        profile = ProfileReport(df=df)\n",
    "        profile.to_file(output_file=f\"../data/profiles/{file}.html\")\n",
    "except Exception as e:\n",
    "    print(f\"ERROR with PROFILE GENERATION: {e}\")\n",
    "\n",
    "\n"
   ]
  },
  {
   "cell_type": "markdown",
   "id": "50f62946",
   "metadata": {},
   "source": [
    "### Final Profile Generation\n",
    "Here we're using ydata-profile capabilities to create a specific profile related to the concatenation of all data. The result is stored at ../data/profiles/ for further analisys."
   ]
  },
  {
   "cell_type": "code",
   "execution_count": null,
   "id": "49dbb2dc",
   "metadata": {},
   "outputs": [
    {
     "name": "stdout",
     "output_type": "stream",
     "text": [
      "DATA LOADED SUCCESSFULLY\n"
     ]
    },
    {
     "data": {
      "application/vnd.jupyter.widget-view+json": {
       "model_id": "dd84530f2d6c4e1fa4352ed3b2ea63b0",
       "version_major": 2,
       "version_minor": 0
      },
      "text/plain": [
       "Summarize dataset:   0%|          | 0/5 [00:00<?, ?it/s]"
      ]
     },
     "metadata": {},
     "output_type": "display_data"
    },
    {
     "name": "stderr",
     "output_type": "stream",
     "text": [
      "100%|██████████| 13/13 [00:46<00:00,  3.57s/it]\n"
     ]
    },
    {
     "data": {
      "application/vnd.jupyter.widget-view+json": {
       "model_id": "2967d4db5da24e668046310d6c2b2643",
       "version_major": 2,
       "version_minor": 0
      },
      "text/plain": [
       "Generate report structure:   0%|          | 0/1 [00:00<?, ?it/s]"
      ]
     },
     "metadata": {},
     "output_type": "display_data"
    },
    {
     "data": {
      "application/vnd.jupyter.widget-view+json": {
       "model_id": "16eb8818b3d74ad38faf797d3e1e8fdc",
       "version_major": 2,
       "version_minor": 0
      },
      "text/plain": [
       "Render HTML:   0%|          | 0/1 [00:00<?, ?it/s]"
      ]
     },
     "metadata": {},
     "output_type": "display_data"
    },
    {
     "data": {
      "application/vnd.jupyter.widget-view+json": {
       "model_id": "40c772c16fc746768808e1a9202a7331",
       "version_major": 2,
       "version_minor": 0
      },
      "text/plain": [
       "Export report to file:   0%|          | 0/1 [00:00<?, ?it/s]"
      ]
     },
     "metadata": {},
     "output_type": "display_data"
    }
   ],
   "source": [
    "\n",
    "try:\n",
    "    # Try with robust parsing options for potentially malformed CSV\n",
    "    file = \"INFLUD21-25.csv\"\n",
    "    df = pandas.read_csv(f\"../data/silver/{file}\", \n",
    "                             low_memory=False,\n",
    "                            on_bad_lines='warn',  \n",
    "                            encoding='latin1',    # Common encoding \n",
    "                            sep=';')    \n",
    "    print(\"DATA LOADED SUCCESSFULLY\")\n",
    "    profile = ProfileReport(df=df)\n",
    "    profile.to_file(output_file=f\"../data/profiles/{file}.html\")\n",
    "except Exception as e:\n",
    "    print(f\"ERROR with PROFILE GENERATION: {e}\")\n",
    "\n",
    "\n"
   ]
  }
 ],
 "metadata": {
  "kernelspec": {
   "display_name": ".venv",
   "language": "python",
   "name": "python3"
  },
  "language_info": {
   "codemirror_mode": {
    "name": "ipython",
    "version": 3
   },
   "file_extension": ".py",
   "mimetype": "text/x-python",
   "name": "python",
   "nbconvert_exporter": "python",
   "pygments_lexer": "ipython3",
   "version": "3.11.9"
  }
 },
 "nbformat": 4,
 "nbformat_minor": 5
}
